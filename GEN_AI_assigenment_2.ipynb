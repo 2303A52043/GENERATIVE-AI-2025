{
  "nbformat": 4,
  "nbformat_minor": 0,
  "metadata": {
    "colab": {
      "provenance": [],
      "authorship_tag": "ABX9TyNOkvp0D03g393s2eMSveIT",
      "include_colab_link": true
    },
    "kernelspec": {
      "name": "python3",
      "display_name": "Python 3"
    },
    "language_info": {
      "name": "python"
    }
  },
  "cells": [
    {
      "cell_type": "markdown",
      "metadata": {
        "id": "view-in-github",
        "colab_type": "text"
      },
      "source": [
        "<a href=\"https://colab.research.google.com/github/2303A52043/GENERATIVE-AI-2025/blob/main/GEN_AI_assigenment_2.ipynb\" target=\"_parent\"><img src=\"https://colab.research.google.com/assets/colab-badge.svg\" alt=\"Open In Colab\"/></a>"
      ]
    },
    {
      "cell_type": "code",
      "execution_count": 1,
      "metadata": {
        "colab": {
          "base_uri": "https://localhost:8080/"
        },
        "id": "glvnLBs4aAXx",
        "outputId": "bf577179-a7de-400d-eddb-2d93ba9a09d3"
      },
      "outputs": [
        {
          "output_type": "stream",
          "name": "stdout",
          "text": [
            "Optimal Solution:\n",
            "Number of units of chocolate A: 2\n",
            "Number of units of chocolate B: 3\n",
            "Maximum profit: 27\n"
          ]
        }
      ],
      "source": [
        "from scipy.optimize import linprog\n",
        "c = [-6, -5]\n",
        "A = [[1, 1], [3, 2]]\n",
        "b = [5, 12]\n",
        "x_bounds = (0, None)\n",
        "y_bounds = (0, None)\n",
        "bounds = [x_bounds, y_bounds]\n",
        "result = linprog(c, A_ub=A, b_ub=b, bounds=bounds)\n",
        "if result.success:\n",
        "  print(\"Optimal Solution:\")\n",
        "  print(\"Number of units of chocolate A:\", round(result.x[0]))\n",
        "  print(\"Number of units of chocolate B:\", round(result.x[1]))\n",
        "  print(\"Maximum profit:\", -round(result.fun))\n",
        "else:\n",
        "  print(\"No optimal solution found.\")"
      ]
    },
    {
      "cell_type": "code",
      "source": [
        "from scipy.optimize import linprog\n",
        "c = [-50, -120]\n",
        "A = [[7000, 2000], [10, 30], [1,1]]\n",
        "b =  [700000, 1200, 110]\n",
        "x_bounds = (0, None)\n",
        "y_bounds = (0, None)\n",
        "bounds = [x_bounds, y_bounds]\n",
        "result = linprog(c, A_ub=A, b_ub=b, bounds=bounds)\n",
        "if result.success:\n",
        "    print(\"Optimal Solution:\")\n",
        "    print(\"Hectares of Wheat:\", round(result.x[0]))\n",
        "    print(\"Hectares of Barley:\", round(result.x[1]))\n",
        "    print(\"Total Profit:\", -round(result.fun))\n",
        "else:\n",
        "    print(\"No optimal solution found.\")"
      ],
      "metadata": {
        "colab": {
          "base_uri": "https://localhost:8080/"
        },
        "id": "tyJ3KaNnaI0d",
        "outputId": "57c1b27e-9ff4-4da4-a3cc-4e0b186ae46a"
      },
      "execution_count": 2,
      "outputs": [
        {
          "output_type": "stream",
          "name": "stdout",
          "text": [
            "Optimal Solution:\n",
            "Hectares of Wheat: 98\n",
            "Hectares of Barley: 7\n",
            "Total Profit: 5779\n"
          ]
        }
      ]
    }
  ]
}